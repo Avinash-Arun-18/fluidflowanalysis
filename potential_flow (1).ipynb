{
 "cells": [
  {
   "cell_type": "code",
   "execution_count": null,
   "metadata": {},
   "outputs": [],
   "source": [
    "%matplotlib notebook\n",
    "from matplotlib import pyplot as plt"
   ]
  },
  {
   "cell_type": "code",
   "execution_count": null,
   "metadata": {},
   "outputs": [],
   "source": [
    "import numpy as np\n",
    "from numpy import pi"
   ]
  },
  {
   "cell_type": "markdown",
   "metadata": {},
   "source": [
    "## Showing potential lines"
   ]
  },
  {
   "cell_type": "code",
   "execution_count": null,
   "metadata": {},
   "outputs": [],
   "source": [
    "np.arange(0, 1., 0.1)"
   ]
  },
  {
   "cell_type": "code",
   "execution_count": null,
   "metadata": {},
   "outputs": [],
   "source": [
    "np.linspace(0, 1, 11)"
   ]
  },
  {
   "cell_type": "code",
   "execution_count": null,
   "metadata": {},
   "outputs": [],
   "source": [
    "x, y = np.mgrid[0:1:10j, 0:1:5j]"
   ]
  },
  {
   "cell_type": "code",
   "execution_count": null,
   "metadata": {},
   "outputs": [],
   "source": [
    "plt.figure(figsize=(3,3))\n",
    "plt.scatter(x, y)"
   ]
  },
  {
   "cell_type": "code",
   "execution_count": null,
   "metadata": {},
   "outputs": [],
   "source": [
    "x, y = np.mgrid[-3:3:50j, -3:3:50j]"
   ]
  },
  {
   "cell_type": "code",
   "execution_count": null,
   "metadata": {},
   "outputs": [],
   "source": [
    "phi = 1.0/(4*pi)*np.log(x*x + y*y)"
   ]
  },
  {
   "cell_type": "code",
   "execution_count": null,
   "metadata": {},
   "outputs": [],
   "source": [
    "plt.figure(figsize=(3,3))\n",
    "plt.contourf(x, y, phi); plt.colorbar();"
   ]
  },
  {
   "cell_type": "code",
   "execution_count": null,
   "metadata": {},
   "outputs": [],
   "source": [
    "plt.figure(figsize=(3,3))\n",
    "plt.contour(x, y, phi);"
   ]
  },
  {
   "cell_type": "markdown",
   "metadata": {},
   "source": [
    "## Streamlines"
   ]
  },
  {
   "cell_type": "code",
   "execution_count": null,
   "metadata": {},
   "outputs": [],
   "source": [
    "def src(r, t):\n",
    "    x, y = r\n",
    "    x1 = x + 0.5\n",
    "    r2 = x1*x1 + y*y\n",
    "    u = x1/(2*pi*r2)\n",
    "    v = y/(2*pi*r2)\n",
    "    return np.array([u, v])\n",
    "\n",
    "def sink(r, t):\n",
    "    x, y = r\n",
    "    x1 = x - 0.5\n",
    "    r2 = x1*x1 + y*y\n",
    "    u = -x1/(2*pi*r2)\n",
    "    v = -y/(2*pi*r2)\n",
    "    return np.array([u, v])\n"
   ]
  },
  {
   "cell_type": "code",
   "execution_count": null,
   "metadata": {},
   "outputs": [],
   "source": [
    "x, y = np.mgrid[-3:3:50j, -3:3:50j]\n",
    "u, v = src((x, y), 0)\n",
    "u1, v1 = sink((x, y), 0)"
   ]
  },
  {
   "cell_type": "code",
   "execution_count": null,
   "metadata": {},
   "outputs": [],
   "source": [
    "plt.figure(figsize=(3,3))\n",
    "plt.quiver(x, y, u + u1, v + v1)"
   ]
  },
  {
   "cell_type": "markdown",
   "metadata": {},
   "source": [
    "## Streamlines"
   ]
  },
  {
   "cell_type": "code",
   "execution_count": null,
   "metadata": {},
   "outputs": [],
   "source": [
    "from scipy.integrate import odeint"
   ]
  },
  {
   "cell_type": "code",
   "execution_count": null,
   "metadata": {},
   "outputs": [],
   "source": [
    "def flow(r, t):\n",
    "    return src(r, t) + sink(r, t) + np.array([1, 0])"
   ]
  },
  {
   "cell_type": "code",
   "execution_count": null,
   "metadata": {},
   "outputs": [],
   "source": [
    "ic = (-3, 0.5)\n",
    "t = np.linspace(0, 5, 200)"
   ]
  },
  {
   "cell_type": "code",
   "execution_count": null,
   "metadata": {},
   "outputs": [],
   "source": [
    "result = odeint(flow, ic, t)"
   ]
  },
  {
   "cell_type": "code",
   "execution_count": null,
   "metadata": {},
   "outputs": [],
   "source": [
    "xr, yr = result.T"
   ]
  },
  {
   "cell_type": "code",
   "execution_count": null,
   "metadata": {},
   "outputs": [],
   "source": [
    "plt.figure()\n",
    "plt.axis('equal')\n",
    "plt.plot(xr, yr)"
   ]
  },
  {
   "cell_type": "code",
   "execution_count": null,
   "metadata": {},
   "outputs": [],
   "source": [
    "plt.figure(figsize=(3,3))\n",
    "plt.axis('equal')\n",
    "for y in np.linspace(-1, 1, 20):\n",
    "    result = odeint(flow, (-2.0, y), t)\n",
    "    xr, yr = result.T\n",
    "    plt.plot(xr, yr)"
   ]
  },
  {
   "cell_type": "markdown",
   "metadata": {},
   "source": [
    "## Better plots\n",
    "Let us try to eliminate the singularity so we can integrate it a bit better."
   ]
  },
  {
   "cell_type": "code",
   "execution_count": null,
   "metadata": {},
   "outputs": [],
   "source": [
    "def src(r, t):\n",
    "    x, y = r\n",
    "    x1 = x + 0.5\n",
    "    r2 = x1*x1 + y*y + 0.0001\n",
    "    u = x1/(2*pi*r2)\n",
    "    v = y/(2*pi*r2)\n",
    "    return np.array([u, v])\n",
    "\n",
    "def sink(r, t):\n",
    "    x, y = r\n",
    "    x1 = x - 0.5\n",
    "    r2 = x1*x1 + y*y + 0.0001\n",
    "    u = -x1/(2*pi*r2)\n",
    "    v = -y/(2*pi*r2)\n",
    "    return np.array([u, v])\n",
    "\n",
    "\n",
    "def flow(r, t):\n",
    "    return src(r, t) + sink(r, t) + np.array([1, 0])"
   ]
  },
  {
   "cell_type": "code",
   "execution_count": null,
   "metadata": {},
   "outputs": [],
   "source": [
    "plt.figure()\n",
    "plt.axis('equal')\n",
    "xg = -1.5*np.ones(40)\n",
    "yg = np.linspace(-1,1, 40)\n",
    "t = np.linspace(0, 3, 100)\n",
    "for x, y in zip(xg, yg):\n",
    "    result = odeint(flow, (x, y), t)\n",
    "    xr, yr = result.T\n",
    "    plt.plot(xr, yr)\n",
    "\n",
    "theta = np.linspace(0, 2*pi, 20)\n",
    "r = 0.01\n",
    "xg = r*np.cos(theta) - 0.5\n",
    "yg = r*np.sin(theta)\n",
    "for x, y in zip(xg, yg):\n",
    "    result = odeint(flow, (x, y), t)\n",
    "    xr, yr = result.T\n",
    "    plt.plot(xr, yr)\n"
   ]
  },
  {
   "cell_type": "code",
   "execution_count": null,
   "metadata": {},
   "outputs": [],
   "source": []
  }
 ],
 "metadata": {
  "kernelspec": {
   "display_name": "Python 3",
   "language": "python",
   "name": "python3"
  },
  "language_info": {
   "codemirror_mode": {
    "name": "ipython",
    "version": 3
   },
   "file_extension": ".py",
   "mimetype": "text/x-python",
   "name": "python",
   "nbconvert_exporter": "python",
   "pygments_lexer": "ipython3",
   "version": "3.6.0"
  }
 },
 "nbformat": 4,
 "nbformat_minor": 2
}
